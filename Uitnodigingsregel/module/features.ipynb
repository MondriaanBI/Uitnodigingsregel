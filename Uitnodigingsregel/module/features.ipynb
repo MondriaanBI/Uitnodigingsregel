{
 "cells": [
  {
   "cell_type": "code",
   "execution_count": 1,
   "id": "739e831a-2294-40e4-b5dc-b43ee926c1ce",
   "metadata": {},
   "outputs": [],
   "source": [
    "from sklearn.preprocessing import MinMaxScaler\n",
    "import pandas as pd\n",
    "import os"
   ]
  },
  {
   "cell_type": "code",
   "execution_count": 2,
   "id": "2a48d644-b8a2-4e5a-b526-44417a954dcc",
   "metadata": {},
   "outputs": [
    {
     "name": "stdout",
     "output_type": "stream",
     "text": [
      "C:\\Users\\MAMM01\\OneDrive - ROC Mondriaan\\Documenten\\Workspace\\CEDA\\GitHub\\Uitnodigingsregel\\Uitnodigingsregel\n"
     ]
    }
   ],
   "source": [
    "# Construct the path to move up two directory levels\n",
    "higher_dir = os.path.abspath('../')\n",
    "os.chdir(higher_dir)\n",
    "\n",
    "print(os.getcwd())\n",
    "\n",
    "from module.config import *"
   ]
  },
  {
   "cell_type": "code",
   "execution_count": 5,
   "id": "cef8de71-3c29-4d65-90c9-9ccf67c8b3c0",
   "metadata": {},
   "outputs": [],
   "source": [
    "if os.path.exists(user_data_dir_train) and os.path.exists(user_data_dir_pred):\n",
    "    train_df = pd.read_csv(user_data_dir_train, sep = '\\t')\n",
    "    pred_df = pd.read_csv(user_data_dir_pred, sep = '\\t')\n",
    "else:\n",
    "    train_df = pd.read_csv(synth_data_dir_train, sep = '\\t')\n",
    "    pred_df = pd.read_csv(synth_data_dir_pred, sep = '\\t')"
   ]
  },
  {
   "cell_type": "code",
   "execution_count": 9,
   "id": "d44ec296-43da-44c6-9fda-82d6151902bd",
   "metadata": {},
   "outputs": [
    {
     "data": {
      "text/plain": [
       "array([[1.        , 0.08333333, 0.        , ..., 0.        , 0.        ,\n",
       "        0.        ],\n",
       "       [0.72526795, 0.        , 0.        , ..., 0.        , 0.        ,\n",
       "        0.        ],\n",
       "       [0.82784118, 0.08333333, 0.        , ..., 0.        , 1.        ,\n",
       "        0.        ],\n",
       "       ...,\n",
       "       [1.        , 0.08333333, 0.        , ..., 1.        , 0.        ,\n",
       "        0.        ],\n",
       "       [0.85020612, 0.08333333, 0.        , ..., 0.        , 0.        ,\n",
       "        0.        ],\n",
       "       [0.8066739 , 0.08333333, 0.        , ..., 0.        , 0.        ,\n",
       "        0.        ]])"
      ]
     },
     "execution_count": 9,
     "metadata": {},
     "output_type": "execute_result"
    }
   ],
   "source": [
    "## Add min/max scaler for LASSO regression\n",
    "def standardize_min_max (dataset_train, dataset_pred):\n",
    "    train_scaled_data = MinMaxScaler().fit_transform(dataset_train)\n",
    "    pred_scaled_data = MinMaxScaler().fit_transform(dataset_pred)\n",
    "    return train_scaled_data, pred_scaled_data\n",
    "\n",
    "train_df_scaled, pred_df_scaled = standardize_min_max(train_df, pred_df)\n",
    "\n",
    "train_df_scaled # Output currenctly are numpy arrays, change to be able to save "
   ]
  },
  {
   "cell_type": "code",
   "execution_count": null,
   "id": "3e6285e5-59f2-4787-8f34-af00fed4b2e1",
   "metadata": {},
   "outputs": [],
   "source": [
    "## Store processed dataset in Uitnodigingsregel/data/interim/\n",
    "# train_df_scaled.to_csv('data/interim/train_scaled.csv', sep='\\t', index=False) \n",
    "# pred_df_scaled.to_csv('data/interim/pred_scaled.csv', sep='\\t', index=False) "
   ]
  },
  {
   "cell_type": "code",
   "execution_count": null,
   "id": "2529db0d-f997-44a1-b34f-623327975002",
   "metadata": {},
   "outputs": [],
   "source": []
  }
 ],
 "metadata": {
  "kernelspec": {
   "display_name": "Python 3 (ipykernel)",
   "language": "python",
   "name": "python3"
  },
  "language_info": {
   "codemirror_mode": {
    "name": "ipython",
    "version": 3
   },
   "file_extension": ".py",
   "mimetype": "text/x-python",
   "name": "python",
   "nbconvert_exporter": "python",
   "pygments_lexer": "ipython3",
   "version": "3.12.3"
  }
 },
 "nbformat": 4,
 "nbformat_minor": 5
}
